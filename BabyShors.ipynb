{
 "cells": [
  {
   "cell_type": "markdown",
   "id": "c116352e",
   "metadata": {},
   "source": [
    "Quantum demo, by David Finder.\n",
    "\n",
    "Howdy, welcome to the quantum demo. We're going to work with _baby_ RSA and _baby_ Shor's algorithm.\n",
    "\n",
    "\n",
    "First, we're going to cover RSA.\n",
    "\n",
    "RSA is an asymmetric encryption scheme commonly used for web traffic. Asymmetric means that we can have separate public and private keys. Public key is used for encryption, private key is used for decryption. \n",
    "\n",
    "\n",
    "It relies on finding $m^{ed}\\equiv m\\mod n$ such that e,d, and m are large positive numbers. M is our message, e is our public key, and d is our private key. \n",
    " \n",
    "\n",
    "First we need to find our public and private key. \n",
    "\n",
    "To do this we need to find two very large prime numbers...."
   ]
  },
  {
   "cell_type": "code",
   "execution_count": 2,
   "id": "be0500e2",
   "metadata": {},
   "outputs": [],
   "source": [
    "p = 13\n",
    "q = 23"
   ]
  },
  {
   "cell_type": "markdown",
   "id": "36e8806f",
   "metadata": {},
   "source": [
    "For some definition of very large. Maybe this is a graph theory class, where 7 is a large number."
   ]
  },
  {
   "cell_type": "code",
   "execution_count": 3,
   "id": "a5666ff2",
   "metadata": {},
   "outputs": [],
   "source": [
    "n=p*q"
   ]
  },
  {
   "cell_type": "markdown",
   "id": "d6a7b029",
   "metadata": {},
   "source": [
    "N is our modulus, this is released publically. \n",
    "Next, we calculuate $\\lambda(n)$, which is the Carmichael Lambda function. \n",
    "\n",
    "$\\lambda(n) = lcm(\\lambda(p),\\lambda(q))$.\n",
    "\n",
    "Given that p,q are prime, $\\lambda(p),\\lambda(q) = p-1,q-1$\n",
    "\n",
    "So we take the lcm(12,22), and keep this secret. "
   ]
  },
  {
   "cell_type": "code",
   "execution_count": 6,
   "id": "6ade758e",
   "metadata": {},
   "outputs": [
    {
     "data": {
      "text/plain": [
       "132"
      ]
     },
     "execution_count": 6,
     "metadata": {},
     "output_type": "execute_result"
    }
   ],
   "source": [
    "import math\n",
    "l = math.lcm(p-1,q-1)\n",
    "l"
   ]
  },
  {
   "cell_type": "markdown",
   "id": "f769fc94",
   "metadata": {},
   "source": [
    "Next, we choose an integer e, less than $\\lambda(n)$, such that the two are coprime. "
   ]
  },
  {
   "cell_type": "code",
   "execution_count": 10,
   "id": "a22332d2",
   "metadata": {},
   "outputs": [],
   "source": [
    "from sympy import factorint\n",
    "factorint(132)\n",
    "e=5"
   ]
  },
  {
   "cell_type": "markdown",
   "id": "79fd6fb0",
   "metadata": {},
   "source": [
    "5 looks like a good value for e. \n",
    "\n",
    "Next we determine $d\\equiv e^{-1}\\mod\\lambda(n)$\n"
   ]
  },
  {
   "cell_type": "code",
   "execution_count": 16,
   "id": "fa138382",
   "metadata": {},
   "outputs": [
    {
     "data": {
      "text/plain": [
       "53"
      ]
     },
     "execution_count": 16,
     "metadata": {},
     "output_type": "execute_result"
    }
   ],
   "source": [
    "d=[x for x in range(0,132) if (x*e)%l==1][0]\n",
    "d"
   ]
  },
  {
   "cell_type": "markdown",
   "id": "a1c6e676",
   "metadata": {},
   "source": [
    "Note: Never make your d this small in an actual implementation. Having a small d makes you vulnerable to [Wiener's attack.](https://en.wikipedia.org/wiki/Wiener%27s_attack). Now that we're done snickering:\n",
    "\n",
    "Our public key is (n,e), and our private key is d. \n",
    "\n",
    "We can discard p,q, and $\\lambda(n)$"
   ]
  },
  {
   "cell_type": "code",
   "execution_count": 22,
   "id": "656e1205",
   "metadata": {},
   "outputs": [
    {
     "name": "stdout",
     "output_type": "stream",
     "text": [
      "(299, 5)\n",
      "53\n"
     ]
    }
   ],
   "source": [
    "public = (n,e)\n",
    "private = d\n",
    "print(public)\n",
    "print(private)"
   ]
  },
  {
   "cell_type": "markdown",
   "id": "6fc73f68",
   "metadata": {},
   "source": [
    "So give me a message using ASCII characters:"
   ]
  },
  {
   "cell_type": "code",
   "execution_count": 31,
   "id": "799d373d",
   "metadata": {},
   "outputs": [
    {
     "name": "stdout",
     "output_type": "stream",
     "text": [
      "Please give me a plaintext:lmaom2k\n"
     ]
    }
   ],
   "source": [
    "message = input(\"Please give me a plaintext:\")"
   ]
  },
  {
   "cell_type": "markdown",
   "id": "3d2b9e00",
   "metadata": {},
   "source": [
    "Because our n is so small, we're going to use an ascii encoding, and encrypt each individual value. "
   ]
  },
  {
   "cell_type": "code",
   "execution_count": 32,
   "id": "d3e1570d",
   "metadata": {},
   "outputs": [],
   "source": [
    "ascii_values = list(map(lambda x: ord(x),message))"
   ]
  },
  {
   "cell_type": "code",
   "execution_count": 33,
   "id": "dd688651",
   "metadata": {},
   "outputs": [
    {
     "data": {
      "text/plain": [
       "[108, 109, 97, 111, 109, 50, 107]"
      ]
     },
     "execution_count": 33,
     "metadata": {},
     "output_type": "execute_result"
    }
   ],
   "source": [
    "ascii_values"
   ]
  },
  {
   "cell_type": "markdown",
   "id": "f29e923c",
   "metadata": {},
   "source": [
    "And now to encrypt, we take each of these integers, and take: $c=m^e \\mod(n)$"
   ]
  },
  {
   "cell_type": "code",
   "execution_count": 42,
   "id": "c5bef66f",
   "metadata": {},
   "outputs": [
    {
     "name": "stdout",
     "output_type": "stream",
     "text": [
      "K,\u000b",
      ",¿\n"
     ]
    },
    {
     "data": {
      "text/plain": [
       "[75, 44, 158, 11, 44, 150, 191]"
      ]
     },
     "execution_count": 42,
     "metadata": {},
     "output_type": "execute_result"
    }
   ],
   "source": [
    "cypher_text = list(map(lambda x: (x**e)%n, ascii_values))\n",
    "print(\"\".join(list(map(lambda x: chr(x),cypher_text))))\n",
    "cypher_text\n"
   ]
  },
  {
   "cell_type": "markdown",
   "id": "eb28bd04",
   "metadata": {},
   "source": [
    "beautiful\n",
    "\n",
    "Now to decrypt, we do the same thing again, with our D private key."
   ]
  },
  {
   "cell_type": "code",
   "execution_count": 44,
   "id": "eb6c5428",
   "metadata": {},
   "outputs": [
    {
     "name": "stdout",
     "output_type": "stream",
     "text": [
      "[108, 109, 97, 111, 109, 50, 107]\n",
      "lmaom2k\n"
     ]
    }
   ],
   "source": [
    "uncypher_text = list(map(lambda x: (x**d)%n, cypher_text))\n",
    "print(uncypher_text)\n",
    "print(\"\".join(list(map(lambda x: chr(x),uncypher_text))))"
   ]
  },
  {
   "cell_type": "markdown",
   "id": "17d224d3",
   "metadata": {},
   "source": [
    "The magic here stems from the fact that working in addition mod $\\lambda (n)$, is equivalent to working in multiplication mod n. \n",
    "\n",
    "In particular: $m^{ed} = m^{1+h*\\lambda(n)} \\mod n$ for some h, because $ed=1 \\mod \\lambda(n)$ \n",
    "\n",
    "We know from Carmichael theorem, that $m^{\\lambda(n)}\\equiv1$ mod n, which gives us $m^{ed} = m*(e^{\\lambda(n)})^h \\equiv m*1^h \\equiv m$\n",
    "\n"
   ]
  },
  {
   "cell_type": "markdown",
   "id": "c47245e4",
   "metadata": {},
   "source": [
    "This is gives us a small problem though.... If we can factor n, which is public, we can find p,q, thus l, and then $\\lambda(L)$, which allows us to find d from e by Chinese Remainder theorem. \n",
    "\n",
    "Fortunately, factoring numbers is computationally hard. \n",
    "\n",
    "The largest we've been able to factor is [RSA-250](https://web.archive.org/web/20200228234716/https://lists.gforge.inria.fr/pipermail/cado-nfs-discuss/2020-February/001166.html)\n",
    "\n",
    "Which took about 2700 core years for a number with 829 bits. The researchers estimated that a 1024 RSA modulus would take about 500 times as long.[Source](https://eprint.iacr.org/2010/006.pdf). \n",
    "\n",
    "These days, 2048 bit modulus are needed. \n",
    "Factoring numbers takes sub-exponentially longer with the more bits you add, so with classical computing, we would be in a losing battle against a larger key size. \n",
    "\n",
    "Enter quantum computing and shors algorithm. "
   ]
  },
  {
   "cell_type": "code",
   "execution_count": null,
   "id": "441338fd",
   "metadata": {},
   "outputs": [],
   "source": []
  },
  {
   "cell_type": "code",
   "execution_count": 48,
   "id": "fe52c8c5",
   "metadata": {},
   "outputs": [
    {
     "ename": "ModuleNotFoundError",
     "evalue": "No module named 'braket.experimental'",
     "output_type": "error",
     "traceback": [
      "\u001b[0;31m---------------------------------------------------------------------------\u001b[0m",
      "\u001b[0;31mModuleNotFoundError\u001b[0m                       Traceback (most recent call last)",
      "\u001b[0;32m/tmp/ipykernel_10735/212520186.py\u001b[0m in \u001b[0;36m<module>\u001b[0;34m\u001b[0m\n\u001b[1;32m      1\u001b[0m \u001b[0;32mfrom\u001b[0m \u001b[0mbraket\u001b[0m\u001b[0;34m.\u001b[0m\u001b[0mdevices\u001b[0m \u001b[0;32mimport\u001b[0m \u001b[0mLocalSimulator\u001b[0m\u001b[0;34m\u001b[0m\u001b[0;34m\u001b[0m\u001b[0m\n\u001b[1;32m      2\u001b[0m \u001b[0;32mfrom\u001b[0m \u001b[0mbraket\u001b[0m\u001b[0;34m.\u001b[0m\u001b[0maws\u001b[0m \u001b[0;32mimport\u001b[0m \u001b[0mAwsDevice\u001b[0m\u001b[0;34m\u001b[0m\u001b[0;34m\u001b[0m\u001b[0m\n\u001b[0;32m----> 3\u001b[0;31m from braket.experimental.algorithms.shors.shors import (\n\u001b[0m\u001b[1;32m      4\u001b[0m     \u001b[0mshors_algorithm\u001b[0m\u001b[0;34m,\u001b[0m\u001b[0;34m\u001b[0m\u001b[0;34m\u001b[0m\u001b[0m\n\u001b[1;32m      5\u001b[0m     \u001b[0mrun_shors_algorithm\u001b[0m\u001b[0;34m,\u001b[0m\u001b[0;34m\u001b[0m\u001b[0;34m\u001b[0m\u001b[0m\n",
      "\u001b[0;31mModuleNotFoundError\u001b[0m: No module named 'braket.experimental'"
     ]
    }
   ],
   "source": [
    "from braket.devices import LocalSimulator\n",
    "from braket.aws import AwsDevice\n",
    "from braket.experimental.algorithms.shors.shors import (\n",
    "    shors_algorithm,\n",
    "    run_shors_algorithm,\n",
    "    get_factors_from_results\n",
    ")\n"
   ]
  },
  {
   "cell_type": "code",
   "execution_count": null,
   "id": "532a991a",
   "metadata": {},
   "outputs": [],
   "source": []
  }
 ],
 "metadata": {
  "kernelspec": {
   "display_name": "Python 3",
   "language": "python",
   "name": "python3"
  },
  "language_info": {
   "codemirror_mode": {
    "name": "ipython",
    "version": 3
   },
   "file_extension": ".py",
   "mimetype": "text/x-python",
   "name": "python",
   "nbconvert_exporter": "python",
   "pygments_lexer": "ipython3",
   "version": "3.10.12"
  }
 },
 "nbformat": 4,
 "nbformat_minor": 5
}
