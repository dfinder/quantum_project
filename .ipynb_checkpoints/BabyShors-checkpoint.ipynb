{
 "cells": [
  {
   "cell_type": "markdown",
   "id": "c116352e",
   "metadata": {},
   "source": [
    "Quantum demo, by David Finder.\n",
    "\n",
    "Howdy, welcome to the quantum demo. We're going to work with _baby_ RSA and _baby_ Shor's algorithm.\n",
    "\n",
    "\n",
    "First, we're going to cover RSA.\n",
    "\n",
    "RSA is an asymmetric encryption scheme commonly used for web traffic. Asymmetric means that we can have separate public and private keys. Public key is used for encryption, private key is used for decryption. \n",
    "\n",
    "\n",
    "It relies on finding $m^{ed}\\equiv m\\mod n$ such that e,d, and m are large positive numbers. M is our message, e is our public key, and d is our private key. \n",
    " \n",
    "\n",
    "First we need to find our public and private key. \n",
    "\n",
    "To do this we need to find two very large prime numbers...."
   ]
  },
  {
   "cell_type": "code",
   "execution_count": 6,
   "id": "be0500e2",
   "metadata": {
    "tags": []
   },
   "outputs": [],
   "source": [
    "p = 13\n",
    "q = 23"
   ]
  },
  {
   "cell_type": "markdown",
   "id": "36e8806f",
   "metadata": {},
   "source": [
    "For some definition of very large. Maybe this is a graph theory class, where 7 is a large number."
   ]
  },
  {
   "cell_type": "code",
   "execution_count": 7,
   "id": "a5666ff2",
   "metadata": {
    "tags": []
   },
   "outputs": [],
   "source": [
    "n=p*q"
   ]
  },
  {
   "cell_type": "markdown",
   "id": "d6a7b029",
   "metadata": {},
   "source": [
    "N is our modulus, this is released publically. \n",
    "Next, we calculuate $\\lambda(n)$, which is the Carmichael Lambda function. \n",
    "\n",
    "$\\lambda(n) = lcm(\\lambda(p),\\lambda(q))$.\n",
    "\n",
    "Given that p,q are prime, $\\lambda(p),\\lambda(q) = p-1,q-1$\n",
    "\n",
    "So we take the lcm(12,22), and keep this secret. "
   ]
  },
  {
   "cell_type": "code",
   "execution_count": 8,
   "id": "6ade758e",
   "metadata": {
    "tags": []
   },
   "outputs": [
    {
     "data": {
      "text/plain": [
       "132"
      ]
     },
     "execution_count": 8,
     "metadata": {},
     "output_type": "execute_result"
    }
   ],
   "source": [
    "import math\n",
    "l = math.lcm(p-1,q-1)\n",
    "l"
   ]
  },
  {
   "cell_type": "markdown",
   "id": "f769fc94",
   "metadata": {},
   "source": [
    "Next, we choose an integer e, less than $\\lambda(n)$, such that the two are coprime. "
   ]
  },
  {
   "cell_type": "code",
   "execution_count": 9,
   "id": "a22332d2",
   "metadata": {
    "tags": []
   },
   "outputs": [],
   "source": [
    "from sympy import factorint\n",
    "factorint(132)\n",
    "e=5"
   ]
  },
  {
   "cell_type": "markdown",
   "id": "79fd6fb0",
   "metadata": {},
   "source": [
    "5 looks like a good value for e. \n",
    "\n",
    "Next we determine $d\\equiv e^{-1}\\mod\\lambda(n)$\n"
   ]
  },
  {
   "cell_type": "code",
   "execution_count": 10,
   "id": "fa138382",
   "metadata": {
    "tags": []
   },
   "outputs": [
    {
     "data": {
      "text/plain": [
       "53"
      ]
     },
     "execution_count": 10,
     "metadata": {},
     "output_type": "execute_result"
    }
   ],
   "source": [
    "d=[x for x in range(0,132) if (x*e)%l==1][0]\n",
    "d"
   ]
  },
  {
   "cell_type": "markdown",
   "id": "a1c6e676",
   "metadata": {},
   "source": [
    "Note: Never make your d this small in an actual implementation. Having a small d makes you vulnerable to [Wiener's attack](https://en.wikipedia.org/wiki/Wiener%27s_attack). Now that we're done snickering:\n",
    "\n",
    "Our public key is (n,e), and our private key is d. \n",
    "\n",
    "We can discard p,q, and $\\lambda(n)$"
   ]
  },
  {
   "cell_type": "code",
   "execution_count": 11,
   "id": "656e1205",
   "metadata": {
    "tags": []
   },
   "outputs": [
    {
     "name": "stdout",
     "output_type": "stream",
     "text": [
      "(299, 5)\n",
      "53\n"
     ]
    }
   ],
   "source": [
    "public = (n,e)\n",
    "private = d\n",
    "print(public)\n",
    "print(private)"
   ]
  },
  {
   "cell_type": "markdown",
   "id": "6fc73f68",
   "metadata": {},
   "source": [
    "So give me a message using ASCII characters:"
   ]
  },
  {
   "cell_type": "code",
   "execution_count": 12,
   "id": "799d373d",
   "metadata": {
    "tags": []
   },
   "outputs": [
    {
     "name": "stdin",
     "output_type": "stream",
     "text": [
      "Please give me a plaintext: text\n"
     ]
    }
   ],
   "source": [
    "message = input(\"Please give me a plaintext:\")"
   ]
  },
  {
   "cell_type": "markdown",
   "id": "3d2b9e00",
   "metadata": {},
   "source": [
    "Because our n is so small, we're going to use an ascii encoding, and encrypt each individual value. "
   ]
  },
  {
   "cell_type": "code",
   "execution_count": 13,
   "id": "d3e1570d",
   "metadata": {
    "tags": []
   },
   "outputs": [],
   "source": [
    "ascii_values = list(map(lambda x: ord(x),message))"
   ]
  },
  {
   "cell_type": "code",
   "execution_count": 14,
   "id": "dd688651",
   "metadata": {
    "tags": []
   },
   "outputs": [
    {
     "data": {
      "text/plain": [
       "[116, 101, 120, 116]"
      ]
     },
     "execution_count": 14,
     "metadata": {},
     "output_type": "execute_result"
    }
   ],
   "source": [
    "ascii_values"
   ]
  },
  {
   "cell_type": "markdown",
   "id": "f29e923c",
   "metadata": {},
   "source": [
    "And now to encrypt, we take each of these integers, and take: $c=m^e \\mod(n)$"
   ]
  },
  {
   "cell_type": "code",
   "execution_count": 15,
   "id": "c5bef66f",
   "metadata": {
    "tags": []
   },
   "outputs": [
    {
     "name": "stdout",
     "output_type": "stream",
     "text": [
      "tîÌt\n"
     ]
    },
    {
     "data": {
      "text/plain": [
       "[116, 238, 204, 116]"
      ]
     },
     "execution_count": 15,
     "metadata": {},
     "output_type": "execute_result"
    }
   ],
   "source": [
    "cypher_text = list(map(lambda x: (x**e)%n, ascii_values))\n",
    "print(\"\".join(list(map(lambda x: chr(x),cypher_text))))\n",
    "cypher_text\n"
   ]
  },
  {
   "cell_type": "markdown",
   "id": "eb28bd04",
   "metadata": {},
   "source": [
    "beautiful\n",
    "\n",
    "Now to decrypt, we do the same thing again, with our D private key."
   ]
  },
  {
   "cell_type": "code",
   "execution_count": 16,
   "id": "eb6c5428",
   "metadata": {
    "tags": []
   },
   "outputs": [
    {
     "name": "stdout",
     "output_type": "stream",
     "text": [
      "[116, 101, 120, 116]\n",
      "text\n"
     ]
    }
   ],
   "source": [
    "uncypher_text = list(map(lambda x: (x**d)%n, cypher_text))\n",
    "print(uncypher_text)\n",
    "print(\"\".join(list(map(lambda x: chr(x),uncypher_text))))"
   ]
  },
  {
   "cell_type": "markdown",
   "id": "17d224d3",
   "metadata": {},
   "source": [
    "The magic here stems from the fact that working in addition mod $\\lambda (n)$, is equivalent to working in multiplication mod n. \n",
    "\n",
    "In particular: $m^{ed} = m^{1+h*\\lambda(n)} \\mod n$ for some h, because $ed=1 \\mod \\lambda(n)$ \n",
    "\n",
    "We know from Carmichael theorem, that $m^{\\lambda(n)}\\equiv1$ mod n, which gives us $m^{ed} = m*(e^{\\lambda(n)})^h \\equiv m*1^h \\equiv m$\n",
    "\n"
   ]
  },
  {
   "cell_type": "markdown",
   "id": "c47245e4",
   "metadata": {},
   "source": [
    "This is gives us a small problem though.... If we can factor n, which is public, we can find p,q, thus l, and then $\\lambda(n)$, which allows us to find d from e by Chinese Remainder theorem. \n",
    "\n",
    "Fortunately, factoring numbers is computationally hard. \n",
    "\n",
    "The largest we've been able to factor is [RSA-250](https://web.archive.org/web/20200228234716/https://lists.gforge.inria.fr/pipermail/cado-nfs-discuss/2020-February/001166.html)\n",
    "\n",
    "Which took about 2700 core years for a number with 829 bits. The researchers estimated that a 1024 RSA modulus would take about 500 times as long.[Source](https://eprint.iacr.org/2010/006.pdf). \n",
    "\n",
    "These days, 2048 bit modulus are needed. \n",
    "Factoring numbers takes sub-exponentially longer with the more bits you add, so with classical computing, we would be in a losing battle against a larger key size. \n",
    "\n",
    "Enter quantum computing and shors algorithm. "
   ]
  },
  {
   "cell_type": "markdown",
   "id": "2257839c-def1-4e23-9da2-a5bcf834e7d3",
   "metadata": {},
   "source": [
    "So we're going to go through the cool demonstration first and then piece together how it works"
   ]
  },
  {
   "cell_type": "code",
   "execution_count": 61,
   "id": "fe52c8c5",
   "metadata": {
    "tags": []
   },
   "outputs": [],
   "source": [
    "from braket.aws import AwsDevice\n",
    "from braket.experimental.algorithms.shors.shors import (\n",
    "    shors_algorithm,\n",
    "    run_shors_algorithm,\n",
    "    get_factors_from_results,\n",
    "    _get_phases\n",
    ")\n",
    "\n",
    "# AWS imports: Import Braket SDK modules\n",
    "from braket.aws import AwsDevice, AwsQuantumTask\n",
    "from braket.circuits import Circuit, Gate, observables\n",
    "from braket.device_schema import DeviceActionType\n",
    "from braket.devices import Devices, LocalSimulator\n",
    "from braket.parametric import FreeParameter\n"
   ]
  },
  {
   "cell_type": "code",
   "execution_count": 39,
   "id": "532a991a",
   "metadata": {
    "tags": []
   },
   "outputs": [],
   "source": []
  },
  {
   "cell_type": "markdown",
   "id": "3f6528e4-f937-44ac-9b65-385b6db2393f",
   "metadata": {},
   "source": [
    "So first we're going to run this in a simulation, because that's the easy part."
   ]
  },
  {
   "cell_type": "code",
   "execution_count": 40,
   "id": "7d29312c-c388-4a78-93d0-5b67a3fcce17",
   "metadata": {
    "tags": []
   },
   "outputs": [
    {
     "name": "stdout",
     "output_type": "stream",
     "text": [
      "Number of Measured phases (s/r) : 4\n",
      "\n",
      "For phase 0.75 :\n",
      "Estimate for r is : 4\n",
      "Factors are : 1 and 13\n",
      "\n",
      "For phase 0.5 :\n",
      "Estimate for r is : 2\n",
      "Factors are : 1 and 1\n",
      "\n",
      "For phase 0.0 :\n",
      "Estimate for r is : 1\n",
      "Factors are : 299 and 1\n",
      "\n",
      "For phase 0.25 :\n",
      "Estimate for r is : 4\n",
      "Factors are : 1 and 13\n",
      "\n",
      "\n",
      "Non-trivial factors found are : {13}\n"
     ]
    }
   ],
   "source": [
    "a = 8  # Any integer that satisfies 1 < a < N and gcd(a, N) = 1.\n",
    "shors_circuit = shors_algorithm(n, a)\n",
    "managed_sim = AwsDevice(\"arn:aws:braket:::device/quantum-simulator/amazon/sv1\")\n",
    "output = run_shors_algorithm(shors_circuit, managed_sim)\n",
    "guessed_factors = get_factors_from_results(output, 299, 8)"
   ]
  },
  {
   "cell_type": "markdown",
   "id": "59448b3c-a287-42ac-8a86-f0d32c94578d",
   "metadata": {},
   "source": [
    "So that was the factorizaiton of 299 on a simulated quantum computer. It was very nice, and it did a lot of magic, which I'm going to have to explain. \n",
    "\n",
    "First things first, my choice of A was a bit of a backwards rationalization, all the other prior numbers that were valid didn't work. \n",
    "\n",
    "\n",
    "Lets do a quick runthrough of how this actually works by doing a code dive.\n",
    "What _is_ shors Algorithm?\n",
    "\n",
    "[Well, here's our sample code](https://github.com/amazon-braket/amazon-braket-algorithm-library/blob/main/src/braket/experimental/algorithms/shors/shors.py)\n",
    "\n",
    "Overview of the circuits main steps:\n",
    "\n",
    "0. We make an input register of sufficient capacity to store n with k qubits. We put those qubits into the hadamard basis, representing all of those 2^k states at once. "
   ]
  },
  {
   "cell_type": "markdown",
   "id": "f5cead7e-3f26-45a8-ad7f-23ed08910a20",
   "metadata": {},
   "source": [
    "\n",
    "1. \"a\" is used to generate a function circuit, which takes x and spits out a^x mod 15. in this case, we represent 8^x mod 15. This is actually a relatively simple task because given x as a binary number, (a=8)^x mod 15. \n",
    "\n",
    "This function will apply to a target set of auxillary qubits. \n",
    "\n",
    "How is this implemented?\n",
    "![alt text](./Code.png \"Title\")\n",
    "\n",
    "very slowly, it seems!\n",
    "\n",
    "For each counting qubit, we apply $O(2^i)$ gates. \n",
    "\n",
    "hold on, I think I just lost my previous plot. \n",
    "I have concluded that this implementation of shors algorithm is bogus. It uses an equal number of auxillary qubits to its normal qubits.\n"
   ]
  },
  {
   "cell_type": "code",
   "execution_count": 68,
   "id": "dc21f4ee-15f4-41e1-a58d-a3728cfa7fa8",
   "metadata": {
    "tags": []
   },
   "outputs": [
    {
     "name": "stdout",
     "output_type": "stream",
     "text": [
      "dict_values([71, 54, 73, 74, 60, 56, 65, 47, 69, 74, 68, 43, 53, 63, 75, 55])\n",
      "9\n",
      "['0b0', '0b0', '0b100000000', '0b10000000', '0b100000000', '0b110000000', '0b100000000', '0b10000000', '0b0', '0b100000000', '0b0', '0b10000000', '0b110000000', '0b110000000', '0b10000000', '0b110000000']\n",
      "[0.75, 0.5, 0.0, 0.25]\n"
     ]
    },
    {
     "data": {
      "image/png": "[encoded data removed]",
      "text/plain": [
       "<Figure size 640x480 with 1 Axes>"
      ]
     },
     "metadata": {},
     "output_type": "display_data"
    }
   ],
   "source": [
    "import numpy as np\n",
    "print(output['measurement_counts'].values())\n",
    "n = int(np.ceil(np.log2(299)))\n",
    "print(n)\n",
    "print(list(map(lambda x: bin(int(x[:9],2)),output['measurement_counts'].keys())))\n",
    "from matplotlib import pyplot as plt \n",
    "print(_get_phases(output['measurement_counts']))\n",
    "plt.title(\"Matplotlib demo\") \n",
    "plt.xlabel(\"x axis caption\") \n",
    "plt.ylabel(\"y axis caption\") \n",
    "plt.bar(list(map(lambda x: int(x[:9],2),output['measurement_counts'].keys())),output['measurement_counts'].values())\n",
    "plt.show()"
   ]
  },
  {
   "cell_type": "code",
   "execution_count": 38,
   "id": "6ddc4910-63ee-4fb9-ad3d-bee29a10b78f",
   "metadata": {
    "tags": []
   },
   "outputs": [
    {
     "ename": "ValidationException",
     "evalue": "An error occurred (ValidationException) when calling the CreateQuantumTask operation: Device arn:aws:braket:us-east-1::device/qpu/quera/Aquila supports ['braket.ir.ahs.program'] action type, but the supplied action type is braket.ir.openqasm.program",
     "output_type": "error",
     "traceback": [
      "\u001b[0;31m---------------------------------------------------------------------------\u001b[0m",
      "\u001b[0;31mValidationException\u001b[0m                       Traceback (most recent call last)",
      "Cell \u001b[0;32mIn[38], line 5\u001b[0m\n\u001b[1;32m      3\u001b[0m provider \u001b[38;5;241m=\u001b[39m BraketProvider()\n\u001b[1;32m      4\u001b[0m aquila \u001b[38;5;241m=\u001b[39m AwsDevice(Devices\u001b[38;5;241m.\u001b[39mQuEra\u001b[38;5;241m.\u001b[39mAquila)\n\u001b[0;32m----> 5\u001b[0m \u001b[43maquila\u001b[49m\u001b[38;5;241;43m.\u001b[39;49m\u001b[43mrun\u001b[49m\u001b[43m(\u001b[49m\u001b[43mshors_circuit\u001b[49m\u001b[43m,\u001b[49m\u001b[43mshots\u001b[49m\u001b[38;5;241;43m=\u001b[39;49m\u001b[38;5;241;43m1000\u001b[39;49m\u001b[43m)\u001b[49m\n",
      "File \u001b[0;32m~/anaconda3/envs/Braket/lib/python3.10/site-packages/braket/aws/aws_device.py:208\u001b[0m, in \u001b[0;36mAwsDevice.run\u001b[0;34m(self, task_specification, s3_destination_folder, shots, poll_timeout_seconds, poll_interval_seconds, inputs, gate_definitions, reservation_arn, *aws_quantum_task_args, **aws_quantum_task_kwargs)\u001b[0m\n\u001b[1;32m    206\u001b[0m \u001b[38;5;28;01mif\u001b[39;00m \u001b[38;5;28mself\u001b[39m\u001b[38;5;241m.\u001b[39m_noise_model:\n\u001b[1;32m    207\u001b[0m     task_specification \u001b[38;5;241m=\u001b[39m \u001b[38;5;28mself\u001b[39m\u001b[38;5;241m.\u001b[39m_apply_noise_model_to_circuit(task_specification)\n\u001b[0;32m--> 208\u001b[0m \u001b[38;5;28;01mreturn\u001b[39;00m \u001b[43mAwsQuantumTask\u001b[49m\u001b[38;5;241;43m.\u001b[39;49m\u001b[43mcreate\u001b[49m\u001b[43m(\u001b[49m\n\u001b[1;32m    209\u001b[0m \u001b[43m    \u001b[49m\u001b[38;5;28;43mself\u001b[39;49m\u001b[38;5;241;43m.\u001b[39;49m\u001b[43m_aws_session\u001b[49m\u001b[43m,\u001b[49m\n\u001b[1;32m    210\u001b[0m \u001b[43m    \u001b[49m\u001b[38;5;28;43mself\u001b[39;49m\u001b[38;5;241;43m.\u001b[39;49m\u001b[43m_arn\u001b[49m\u001b[43m,\u001b[49m\n\u001b[1;32m    211\u001b[0m \u001b[43m    \u001b[49m\u001b[43mtask_specification\u001b[49m\u001b[43m,\u001b[49m\n\u001b[1;32m    212\u001b[0m \u001b[43m    \u001b[49m\u001b[43ms3_destination_folder\u001b[49m\n\u001b[1;32m    213\u001b[0m \u001b[43m    \u001b[49m\u001b[38;5;129;43;01mor\u001b[39;49;00m\u001b[43m \u001b[49m\u001b[43m(\u001b[49m\n\u001b[1;32m    214\u001b[0m \u001b[43m        \u001b[49m\u001b[43mAwsSession\u001b[49m\u001b[38;5;241;43m.\u001b[39;49m\u001b[43mparse_s3_uri\u001b[49m\u001b[43m(\u001b[49m\u001b[43mos\u001b[49m\u001b[38;5;241;43m.\u001b[39;49m\u001b[43menviron\u001b[49m\u001b[38;5;241;43m.\u001b[39;49m\u001b[43mget\u001b[49m\u001b[43m(\u001b[49m\u001b[38;5;124;43m\"\u001b[39;49m\u001b[38;5;124;43mAMZN_BRAKET_TASK_RESULTS_S3_URI\u001b[39;49m\u001b[38;5;124;43m\"\u001b[39;49m\u001b[43m)\u001b[49m\u001b[43m)\u001b[49m\n\u001b[1;32m    215\u001b[0m \u001b[43m        \u001b[49m\u001b[38;5;28;43;01mif\u001b[39;49;00m\u001b[43m \u001b[49m\u001b[38;5;124;43m\"\u001b[39;49m\u001b[38;5;124;43mAMZN_BRAKET_TASK_RESULTS_S3_URI\u001b[39;49m\u001b[38;5;124;43m\"\u001b[39;49m\u001b[43m \u001b[49m\u001b[38;5;129;43;01min\u001b[39;49;00m\u001b[43m \u001b[49m\u001b[43mos\u001b[49m\u001b[38;5;241;43m.\u001b[39;49m\u001b[43menviron\u001b[49m\n\u001b[1;32m    216\u001b[0m \u001b[43m        \u001b[49m\u001b[38;5;28;43;01melse\u001b[39;49;00m\u001b[43m \u001b[49m\u001b[38;5;28;43;01mNone\u001b[39;49;00m\n\u001b[1;32m    217\u001b[0m \u001b[43m    \u001b[49m\u001b[43m)\u001b[49m\n\u001b[1;32m    218\u001b[0m \u001b[43m    \u001b[49m\u001b[38;5;129;43;01mor\u001b[39;49;00m\u001b[43m \u001b[49m\u001b[43m(\u001b[49m\u001b[38;5;28;43mself\u001b[39;49m\u001b[38;5;241;43m.\u001b[39;49m\u001b[43m_aws_session\u001b[49m\u001b[38;5;241;43m.\u001b[39;49m\u001b[43mdefault_bucket\u001b[49m\u001b[43m(\u001b[49m\u001b[43m)\u001b[49m\u001b[43m,\u001b[49m\u001b[43m \u001b[49m\u001b[38;5;124;43m\"\u001b[39;49m\u001b[38;5;124;43mtasks\u001b[39;49m\u001b[38;5;124;43m\"\u001b[39;49m\u001b[43m)\u001b[49m\u001b[43m,\u001b[49m\n\u001b[1;32m    219\u001b[0m \u001b[43m    \u001b[49m\u001b[43mshots\u001b[49m\u001b[43m \u001b[49m\u001b[38;5;28;43;01mif\u001b[39;49;00m\u001b[43m \u001b[49m\u001b[43mshots\u001b[49m\u001b[43m \u001b[49m\u001b[38;5;129;43;01mis\u001b[39;49;00m\u001b[43m \u001b[49m\u001b[38;5;129;43;01mnot\u001b[39;49;00m\u001b[43m \u001b[49m\u001b[38;5;28;43;01mNone\u001b[39;49;00m\u001b[43m \u001b[49m\u001b[38;5;28;43;01melse\u001b[39;49;00m\u001b[43m \u001b[49m\u001b[38;5;28;43mself\u001b[39;49m\u001b[38;5;241;43m.\u001b[39;49m\u001b[43m_default_shots\u001b[49m\u001b[43m,\u001b[49m\n\u001b[1;32m    220\u001b[0m \u001b[43m    \u001b[49m\u001b[43mpoll_timeout_seconds\u001b[49m\u001b[38;5;241;43m=\u001b[39;49m\u001b[43mpoll_timeout_seconds\u001b[49m\u001b[43m,\u001b[49m\n\u001b[1;32m    221\u001b[0m \u001b[43m    \u001b[49m\u001b[43mpoll_interval_seconds\u001b[49m\u001b[38;5;241;43m=\u001b[39;49m\u001b[43mpoll_interval_seconds\u001b[49m\u001b[43m \u001b[49m\u001b[38;5;129;43;01mor\u001b[39;49;00m\u001b[43m \u001b[49m\u001b[38;5;28;43mself\u001b[39;49m\u001b[38;5;241;43m.\u001b[39;49m\u001b[43m_poll_interval_seconds\u001b[49m\u001b[43m,\u001b[49m\n\u001b[1;32m    222\u001b[0m \u001b[43m    \u001b[49m\u001b[43minputs\u001b[49m\u001b[38;5;241;43m=\u001b[39;49m\u001b[43minputs\u001b[49m\u001b[43m,\u001b[49m\n\u001b[1;32m    223\u001b[0m \u001b[43m    \u001b[49m\u001b[43mgate_definitions\u001b[49m\u001b[38;5;241;43m=\u001b[39;49m\u001b[43mgate_definitions\u001b[49m\u001b[43m,\u001b[49m\n\u001b[1;32m    224\u001b[0m \u001b[43m    \u001b[49m\u001b[43mreservation_arn\u001b[49m\u001b[38;5;241;43m=\u001b[39;49m\u001b[43mreservation_arn\u001b[49m\u001b[43m,\u001b[49m\n\u001b[1;32m    225\u001b[0m \u001b[43m    \u001b[49m\u001b[38;5;241;43m*\u001b[39;49m\u001b[43maws_quantum_task_args\u001b[49m\u001b[43m,\u001b[49m\n\u001b[1;32m    226\u001b[0m \u001b[43m    \u001b[49m\u001b[38;5;241;43m*\u001b[39;49m\u001b[38;5;241;43m*\u001b[39;49m\u001b[43maws_quantum_task_kwargs\u001b[49m\u001b[43m,\u001b[49m\n\u001b[1;32m    227\u001b[0m \u001b[43m\u001b[49m\u001b[43m)\u001b[49m\n",
      "File \u001b[0;32m~/anaconda3/envs/Braket/lib/python3.10/site-packages/braket/aws/aws_quantum_task.py:214\u001b[0m, in \u001b[0;36mAwsQuantumTask.create\u001b[0;34m(aws_session, device_arn, task_specification, s3_destination_folder, shots, device_parameters, disable_qubit_rewiring, tags, inputs, gate_definitions, quiet, reservation_arn, *args, **kwargs)\u001b[0m\n\u001b[1;32m    209\u001b[0m     \u001b[38;5;28;01mif\u001b[39;00m unbounded_parameters \u001b[38;5;241m:=\u001b[39m param_names \u001b[38;5;241m-\u001b[39m \u001b[38;5;28mset\u001b[39m(inputs\u001b[38;5;241m.\u001b[39mkeys()):\n\u001b[1;32m    210\u001b[0m         \u001b[38;5;28;01mraise\u001b[39;00m \u001b[38;5;167;01mValueError\u001b[39;00m(\n\u001b[1;32m    211\u001b[0m             \u001b[38;5;124mf\u001b[39m\u001b[38;5;124m\"\u001b[39m\u001b[38;5;124mCannot execute circuit with unbound parameters: \u001b[39m\u001b[38;5;132;01m{\u001b[39;00munbounded_parameters\u001b[38;5;132;01m}\u001b[39;00m\u001b[38;5;124m\"\u001b[39m\n\u001b[1;32m    212\u001b[0m         )\n\u001b[0;32m--> 214\u001b[0m \u001b[38;5;28;01mreturn\u001b[39;00m \u001b[43m_create_internal\u001b[49m\u001b[43m(\u001b[49m\n\u001b[1;32m    215\u001b[0m \u001b[43m    \u001b[49m\u001b[43mtask_specification\u001b[49m\u001b[43m,\u001b[49m\n\u001b[1;32m    216\u001b[0m \u001b[43m    \u001b[49m\u001b[43maws_session\u001b[49m\u001b[43m,\u001b[49m\n\u001b[1;32m    217\u001b[0m \u001b[43m    \u001b[49m\u001b[43mcreate_task_kwargs\u001b[49m\u001b[43m,\u001b[49m\n\u001b[1;32m    218\u001b[0m \u001b[43m    \u001b[49m\u001b[43mdevice_arn\u001b[49m\u001b[43m,\u001b[49m\n\u001b[1;32m    219\u001b[0m \u001b[43m    \u001b[49m\u001b[43mdevice_parameters\u001b[49m\u001b[43m \u001b[49m\u001b[38;5;129;43;01mor\u001b[39;49;00m\u001b[43m \u001b[49m\u001b[43m{\u001b[49m\u001b[43m}\u001b[49m\u001b[43m,\u001b[49m\n\u001b[1;32m    220\u001b[0m \u001b[43m    \u001b[49m\u001b[43mdisable_qubit_rewiring\u001b[49m\u001b[43m,\u001b[49m\n\u001b[1;32m    221\u001b[0m \u001b[43m    \u001b[49m\u001b[43minputs\u001b[49m\u001b[43m,\u001b[49m\n\u001b[1;32m    222\u001b[0m \u001b[43m    \u001b[49m\u001b[43mgate_definitions\u001b[49m\u001b[38;5;241;43m=\u001b[39;49m\u001b[43mgate_definitions\u001b[49m\u001b[43m,\u001b[49m\n\u001b[1;32m    223\u001b[0m \u001b[43m    \u001b[49m\u001b[43mquiet\u001b[49m\u001b[38;5;241;43m=\u001b[39;49m\u001b[43mquiet\u001b[49m\u001b[43m,\u001b[49m\n\u001b[1;32m    224\u001b[0m \u001b[43m    \u001b[49m\u001b[38;5;241;43m*\u001b[39;49m\u001b[43margs\u001b[49m\u001b[43m,\u001b[49m\n\u001b[1;32m    225\u001b[0m \u001b[43m    \u001b[49m\u001b[38;5;241;43m*\u001b[39;49m\u001b[38;5;241;43m*\u001b[39;49m\u001b[43mkwargs\u001b[49m\u001b[43m,\u001b[49m\n\u001b[1;32m    226\u001b[0m \u001b[43m\u001b[49m\u001b[43m)\u001b[49m\n",
      "File \u001b[0;32m~/anaconda3/envs/Braket/lib/python3.10/functools.py:889\u001b[0m, in \u001b[0;36msingledispatch.<locals>.wrapper\u001b[0;34m(*args, **kw)\u001b[0m\n\u001b[1;32m    885\u001b[0m \u001b[38;5;28;01mif\u001b[39;00m \u001b[38;5;129;01mnot\u001b[39;00m args:\n\u001b[1;32m    886\u001b[0m     \u001b[38;5;28;01mraise\u001b[39;00m \u001b[38;5;167;01mTypeError\u001b[39;00m(\u001b[38;5;124mf\u001b[39m\u001b[38;5;124m'\u001b[39m\u001b[38;5;132;01m{\u001b[39;00mfuncname\u001b[38;5;132;01m}\u001b[39;00m\u001b[38;5;124m requires at least \u001b[39m\u001b[38;5;124m'\u001b[39m\n\u001b[1;32m    887\u001b[0m                     \u001b[38;5;124m'\u001b[39m\u001b[38;5;124m1 positional argument\u001b[39m\u001b[38;5;124m'\u001b[39m)\n\u001b[0;32m--> 889\u001b[0m \u001b[38;5;28;01mreturn\u001b[39;00m \u001b[43mdispatch\u001b[49m\u001b[43m(\u001b[49m\u001b[43margs\u001b[49m\u001b[43m[\u001b[49m\u001b[38;5;241;43m0\u001b[39;49m\u001b[43m]\u001b[49m\u001b[38;5;241;43m.\u001b[39;49m\u001b[38;5;18;43m__class__\u001b[39;49m\u001b[43m)\u001b[49m\u001b[43m(\u001b[49m\u001b[38;5;241;43m*\u001b[39;49m\u001b[43margs\u001b[49m\u001b[43m,\u001b[49m\u001b[43m \u001b[49m\u001b[38;5;241;43m*\u001b[39;49m\u001b[38;5;241;43m*\u001b[39;49m\u001b[43mkw\u001b[49m\u001b[43m)\u001b[49m\n",
      "File \u001b[0;32m~/anaconda3/envs/Braket/lib/python3.10/site-packages/braket/aws/aws_quantum_task.py:730\u001b[0m, in \u001b[0;36m_\u001b[0;34m(circuit, aws_session, create_task_kwargs, device_arn, device_parameters, disable_qubit_rewiring, inputs, gate_definitions, *args, **kwargs)\u001b[0m\n\u001b[1;32m    721\u001b[0m     openqasm_program \u001b[38;5;241m=\u001b[39m OpenQASMProgram(\n\u001b[1;32m    722\u001b[0m         source\u001b[38;5;241m=\u001b[39mopenqasm_program\u001b[38;5;241m.\u001b[39msource,\n\u001b[1;32m    723\u001b[0m         inputs\u001b[38;5;241m=\u001b[39minputs_copy,\n\u001b[1;32m    724\u001b[0m     )\n\u001b[1;32m    726\u001b[0m create_task_kwargs \u001b[38;5;241m|\u001b[39m\u001b[38;5;241m=\u001b[39m {\n\u001b[1;32m    727\u001b[0m     \u001b[38;5;124m\"\u001b[39m\u001b[38;5;124maction\u001b[39m\u001b[38;5;124m\"\u001b[39m: openqasm_program\u001b[38;5;241m.\u001b[39mjson(),\n\u001b[1;32m    728\u001b[0m     \u001b[38;5;124m\"\u001b[39m\u001b[38;5;124mdeviceParameters\u001b[39m\u001b[38;5;124m\"\u001b[39m: final_device_parameters\u001b[38;5;241m.\u001b[39mjson(exclude_none\u001b[38;5;241m=\u001b[39m\u001b[38;5;28;01mTrue\u001b[39;00m),\n\u001b[1;32m    729\u001b[0m }\n\u001b[0;32m--> 730\u001b[0m task_arn \u001b[38;5;241m=\u001b[39m \u001b[43maws_session\u001b[49m\u001b[38;5;241;43m.\u001b[39;49m\u001b[43mcreate_quantum_task\u001b[49m\u001b[43m(\u001b[49m\u001b[38;5;241;43m*\u001b[39;49m\u001b[38;5;241;43m*\u001b[39;49m\u001b[43mcreate_task_kwargs\u001b[49m\u001b[43m)\u001b[49m\n\u001b[1;32m    731\u001b[0m \u001b[38;5;28;01mreturn\u001b[39;00m AwsQuantumTask(task_arn, aws_session, \u001b[38;5;241m*\u001b[39margs, \u001b[38;5;241m*\u001b[39m\u001b[38;5;241m*\u001b[39mkwargs)\n",
      "File \u001b[0;32m~/anaconda3/envs/Braket/lib/python3.10/site-packages/braket/aws/aws_session.py:269\u001b[0m, in \u001b[0;36mAwsSession.create_quantum_task\u001b[0;34m(self, **boto3_kwargs)\u001b[0m\n\u001b[1;32m    267\u001b[0m \u001b[38;5;28;01mif\u001b[39;00m job_token:\n\u001b[1;32m    268\u001b[0m     boto3_kwargs[\u001b[38;5;124m\"\u001b[39m\u001b[38;5;124mjobToken\u001b[39m\u001b[38;5;124m\"\u001b[39m] \u001b[38;5;241m=\u001b[39m job_token\n\u001b[0;32m--> 269\u001b[0m response \u001b[38;5;241m=\u001b[39m \u001b[38;5;28;43mself\u001b[39;49m\u001b[38;5;241;43m.\u001b[39;49m\u001b[43mbraket_client\u001b[49m\u001b[38;5;241;43m.\u001b[39;49m\u001b[43mcreate_quantum_task\u001b[49m\u001b[43m(\u001b[49m\u001b[38;5;241;43m*\u001b[39;49m\u001b[38;5;241;43m*\u001b[39;49m\u001b[43mboto3_kwargs\u001b[49m\u001b[43m)\u001b[49m\n\u001b[1;32m    270\u001b[0m broadcast_event(\n\u001b[1;32m    271\u001b[0m     _TaskCreationEvent(\n\u001b[1;32m    272\u001b[0m         arn\u001b[38;5;241m=\u001b[39mresponse[\u001b[38;5;124m\"\u001b[39m\u001b[38;5;124mquantumTaskArn\u001b[39m\u001b[38;5;124m\"\u001b[39m],\n\u001b[0;32m   (...)\u001b[0m\n\u001b[1;32m    276\u001b[0m     )\n\u001b[1;32m    277\u001b[0m )\n\u001b[1;32m    278\u001b[0m \u001b[38;5;28;01mreturn\u001b[39;00m response[\u001b[38;5;124m\"\u001b[39m\u001b[38;5;124mquantumTaskArn\u001b[39m\u001b[38;5;124m\"\u001b[39m]\n",
      "File \u001b[0;32m~/anaconda3/envs/Braket/lib/python3.10/site-packages/botocore/client.py:569\u001b[0m, in \u001b[0;36mClientCreator._create_api_method.<locals>._api_call\u001b[0;34m(self, *args, **kwargs)\u001b[0m\n\u001b[1;32m    565\u001b[0m     \u001b[38;5;28;01mraise\u001b[39;00m \u001b[38;5;167;01mTypeError\u001b[39;00m(\n\u001b[1;32m    566\u001b[0m         \u001b[38;5;124mf\u001b[39m\u001b[38;5;124m\"\u001b[39m\u001b[38;5;132;01m{\u001b[39;00mpy_operation_name\u001b[38;5;132;01m}\u001b[39;00m\u001b[38;5;124m() only accepts keyword arguments.\u001b[39m\u001b[38;5;124m\"\u001b[39m\n\u001b[1;32m    567\u001b[0m     )\n\u001b[1;32m    568\u001b[0m \u001b[38;5;66;03m# The \"self\" in this scope is referring to the BaseClient.\u001b[39;00m\n\u001b[0;32m--> 569\u001b[0m \u001b[38;5;28;01mreturn\u001b[39;00m \u001b[38;5;28;43mself\u001b[39;49m\u001b[38;5;241;43m.\u001b[39;49m\u001b[43m_make_api_call\u001b[49m\u001b[43m(\u001b[49m\u001b[43moperation_name\u001b[49m\u001b[43m,\u001b[49m\u001b[43m \u001b[49m\u001b[43mkwargs\u001b[49m\u001b[43m)\u001b[49m\n",
      "File \u001b[0;32m~/anaconda3/envs/Braket/lib/python3.10/site-packages/botocore/client.py:1023\u001b[0m, in \u001b[0;36mBaseClient._make_api_call\u001b[0;34m(self, operation_name, api_params)\u001b[0m\n\u001b[1;32m   1019\u001b[0m     error_code \u001b[38;5;241m=\u001b[39m error_info\u001b[38;5;241m.\u001b[39mget(\u001b[38;5;124m\"\u001b[39m\u001b[38;5;124mQueryErrorCode\u001b[39m\u001b[38;5;124m\"\u001b[39m) \u001b[38;5;129;01mor\u001b[39;00m error_info\u001b[38;5;241m.\u001b[39mget(\n\u001b[1;32m   1020\u001b[0m         \u001b[38;5;124m\"\u001b[39m\u001b[38;5;124mCode\u001b[39m\u001b[38;5;124m\"\u001b[39m\n\u001b[1;32m   1021\u001b[0m     )\n\u001b[1;32m   1022\u001b[0m     error_class \u001b[38;5;241m=\u001b[39m \u001b[38;5;28mself\u001b[39m\u001b[38;5;241m.\u001b[39mexceptions\u001b[38;5;241m.\u001b[39mfrom_code(error_code)\n\u001b[0;32m-> 1023\u001b[0m     \u001b[38;5;28;01mraise\u001b[39;00m error_class(parsed_response, operation_name)\n\u001b[1;32m   1024\u001b[0m \u001b[38;5;28;01melse\u001b[39;00m:\n\u001b[1;32m   1025\u001b[0m     \u001b[38;5;28;01mreturn\u001b[39;00m parsed_response\n",
      "\u001b[0;31mValidationException\u001b[0m: An error occurred (ValidationException) when calling the CreateQuantumTask operation: Device arn:aws:braket:us-east-1::device/qpu/quera/Aquila supports ['braket.ir.ahs.program'] action type, but the supplied action type is braket.ir.openqasm.program"
     ]
    }
   ],
   "source": [
    "from qiskit_braket_provider import BraketProvider\n",
    "\n",
    "provider = BraketProvider()\n",
    "aquila = AwsDevice(Devices.QuEra.Aquila)\n",
    "aquila.run(shors_circuit,shots=1000)"
   ]
  },
  {
   "cell_type": "code",
   "execution_count": 22,
   "id": "444fee8f-5af8-4009-b771-d15f903442d4",
   "metadata": {
    "tags": []
   },
   "outputs": [
    {
     "name": "stdout",
     "output_type": "stream",
     "text": [
      "QueueDepthInfo(quantum_tasks={<QueueType.NORMAL: 'Normal'>: '0', <QueueType.PRIORITY: 'Priority'>: '0'}, jobs='0')\n",
      "Device('name': Ankaa-2, 'arn': arn:aws:braket:us-west-1::device/qpu/rigetti/Ankaa-2)\n"
     ]
    },
    {
     "ename": "DeviceOfflineException",
     "evalue": "An error occurred (DeviceOfflineException) when calling the CreateQuantumTask operation: Device is not available. Status = OFFLINE",
     "output_type": "error",
     "traceback": [
      "\u001b[0;31m---------------------------------------------------------------------------\u001b[0m",
      "\u001b[0;31mDeviceOfflineException\u001b[0m                    Traceback (most recent call last)",
      "Cell \u001b[0;32mIn[22], line 4\u001b[0m\n\u001b[1;32m      2\u001b[0m \u001b[38;5;28mprint\u001b[39m(rigetti\u001b[38;5;241m.\u001b[39mqueue_depth())\n\u001b[1;32m      3\u001b[0m \u001b[38;5;28mprint\u001b[39m(rigetti)\n\u001b[0;32m----> 4\u001b[0m \u001b[43mrigetti\u001b[49m\u001b[38;5;241;43m.\u001b[39;49m\u001b[43mrun\u001b[49m\u001b[43m(\u001b[49m\u001b[43mshors_circuit\u001b[49m\u001b[43m,\u001b[49m\u001b[43mshots\u001b[49m\u001b[38;5;241;43m=\u001b[39;49m\u001b[38;5;241;43m1000\u001b[39;49m\u001b[43m)\u001b[49m\n",
      "File \u001b[0;32m~/anaconda3/envs/Braket/lib/python3.10/site-packages/braket/aws/aws_device.py:208\u001b[0m, in \u001b[0;36mAwsDevice.run\u001b[0;34m(self, task_specification, s3_destination_folder, shots, poll_timeout_seconds, poll_interval_seconds, inputs, gate_definitions, reservation_arn, *aws_quantum_task_args, **aws_quantum_task_kwargs)\u001b[0m\n\u001b[1;32m    206\u001b[0m \u001b[38;5;28;01mif\u001b[39;00m \u001b[38;5;28mself\u001b[39m\u001b[38;5;241m.\u001b[39m_noise_model:\n\u001b[1;32m    207\u001b[0m     task_specification \u001b[38;5;241m=\u001b[39m \u001b[38;5;28mself\u001b[39m\u001b[38;5;241m.\u001b[39m_apply_noise_model_to_circuit(task_specification)\n\u001b[0;32m--> 208\u001b[0m \u001b[38;5;28;01mreturn\u001b[39;00m \u001b[43mAwsQuantumTask\u001b[49m\u001b[38;5;241;43m.\u001b[39;49m\u001b[43mcreate\u001b[49m\u001b[43m(\u001b[49m\n\u001b[1;32m    209\u001b[0m \u001b[43m    \u001b[49m\u001b[38;5;28;43mself\u001b[39;49m\u001b[38;5;241;43m.\u001b[39;49m\u001b[43m_aws_session\u001b[49m\u001b[43m,\u001b[49m\n\u001b[1;32m    210\u001b[0m \u001b[43m    \u001b[49m\u001b[38;5;28;43mself\u001b[39;49m\u001b[38;5;241;43m.\u001b[39;49m\u001b[43m_arn\u001b[49m\u001b[43m,\u001b[49m\n\u001b[1;32m    211\u001b[0m \u001b[43m    \u001b[49m\u001b[43mtask_specification\u001b[49m\u001b[43m,\u001b[49m\n\u001b[1;32m    212\u001b[0m \u001b[43m    \u001b[49m\u001b[43ms3_destination_folder\u001b[49m\n\u001b[1;32m    213\u001b[0m \u001b[43m    \u001b[49m\u001b[38;5;129;43;01mor\u001b[39;49;00m\u001b[43m \u001b[49m\u001b[43m(\u001b[49m\n\u001b[1;32m    214\u001b[0m \u001b[43m        \u001b[49m\u001b[43mAwsSession\u001b[49m\u001b[38;5;241;43m.\u001b[39;49m\u001b[43mparse_s3_uri\u001b[49m\u001b[43m(\u001b[49m\u001b[43mos\u001b[49m\u001b[38;5;241;43m.\u001b[39;49m\u001b[43menviron\u001b[49m\u001b[38;5;241;43m.\u001b[39;49m\u001b[43mget\u001b[49m\u001b[43m(\u001b[49m\u001b[38;5;124;43m\"\u001b[39;49m\u001b[38;5;124;43mAMZN_BRAKET_TASK_RESULTS_S3_URI\u001b[39;49m\u001b[38;5;124;43m\"\u001b[39;49m\u001b[43m)\u001b[49m\u001b[43m)\u001b[49m\n\u001b[1;32m    215\u001b[0m \u001b[43m        \u001b[49m\u001b[38;5;28;43;01mif\u001b[39;49;00m\u001b[43m \u001b[49m\u001b[38;5;124;43m\"\u001b[39;49m\u001b[38;5;124;43mAMZN_BRAKET_TASK_RESULTS_S3_URI\u001b[39;49m\u001b[38;5;124;43m\"\u001b[39;49m\u001b[43m \u001b[49m\u001b[38;5;129;43;01min\u001b[39;49;00m\u001b[43m \u001b[49m\u001b[43mos\u001b[49m\u001b[38;5;241;43m.\u001b[39;49m\u001b[43menviron\u001b[49m\n\u001b[1;32m    216\u001b[0m \u001b[43m        \u001b[49m\u001b[38;5;28;43;01melse\u001b[39;49;00m\u001b[43m \u001b[49m\u001b[38;5;28;43;01mNone\u001b[39;49;00m\n\u001b[1;32m    217\u001b[0m \u001b[43m    \u001b[49m\u001b[43m)\u001b[49m\n\u001b[1;32m    218\u001b[0m \u001b[43m    \u001b[49m\u001b[38;5;129;43;01mor\u001b[39;49;00m\u001b[43m \u001b[49m\u001b[43m(\u001b[49m\u001b[38;5;28;43mself\u001b[39;49m\u001b[38;5;241;43m.\u001b[39;49m\u001b[43m_aws_session\u001b[49m\u001b[38;5;241;43m.\u001b[39;49m\u001b[43mdefault_bucket\u001b[49m\u001b[43m(\u001b[49m\u001b[43m)\u001b[49m\u001b[43m,\u001b[49m\u001b[43m \u001b[49m\u001b[38;5;124;43m\"\u001b[39;49m\u001b[38;5;124;43mtasks\u001b[39;49m\u001b[38;5;124;43m\"\u001b[39;49m\u001b[43m)\u001b[49m\u001b[43m,\u001b[49m\n\u001b[1;32m    219\u001b[0m \u001b[43m    \u001b[49m\u001b[43mshots\u001b[49m\u001b[43m \u001b[49m\u001b[38;5;28;43;01mif\u001b[39;49;00m\u001b[43m \u001b[49m\u001b[43mshots\u001b[49m\u001b[43m \u001b[49m\u001b[38;5;129;43;01mis\u001b[39;49;00m\u001b[43m \u001b[49m\u001b[38;5;129;43;01mnot\u001b[39;49;00m\u001b[43m \u001b[49m\u001b[38;5;28;43;01mNone\u001b[39;49;00m\u001b[43m \u001b[49m\u001b[38;5;28;43;01melse\u001b[39;49;00m\u001b[43m \u001b[49m\u001b[38;5;28;43mself\u001b[39;49m\u001b[38;5;241;43m.\u001b[39;49m\u001b[43m_default_shots\u001b[49m\u001b[43m,\u001b[49m\n\u001b[1;32m    220\u001b[0m \u001b[43m    \u001b[49m\u001b[43mpoll_timeout_seconds\u001b[49m\u001b[38;5;241;43m=\u001b[39;49m\u001b[43mpoll_timeout_seconds\u001b[49m\u001b[43m,\u001b[49m\n\u001b[1;32m    221\u001b[0m \u001b[43m    \u001b[49m\u001b[43mpoll_interval_seconds\u001b[49m\u001b[38;5;241;43m=\u001b[39;49m\u001b[43mpoll_interval_seconds\u001b[49m\u001b[43m \u001b[49m\u001b[38;5;129;43;01mor\u001b[39;49;00m\u001b[43m \u001b[49m\u001b[38;5;28;43mself\u001b[39;49m\u001b[38;5;241;43m.\u001b[39;49m\u001b[43m_poll_interval_seconds\u001b[49m\u001b[43m,\u001b[49m\n\u001b[1;32m    222\u001b[0m \u001b[43m    \u001b[49m\u001b[43minputs\u001b[49m\u001b[38;5;241;43m=\u001b[39;49m\u001b[43minputs\u001b[49m\u001b[43m,\u001b[49m\n\u001b[1;32m    223\u001b[0m \u001b[43m    \u001b[49m\u001b[43mgate_definitions\u001b[49m\u001b[38;5;241;43m=\u001b[39;49m\u001b[43mgate_definitions\u001b[49m\u001b[43m,\u001b[49m\n\u001b[1;32m    224\u001b[0m \u001b[43m    \u001b[49m\u001b[43mreservation_arn\u001b[49m\u001b[38;5;241;43m=\u001b[39;49m\u001b[43mreservation_arn\u001b[49m\u001b[43m,\u001b[49m\n\u001b[1;32m    225\u001b[0m \u001b[43m    \u001b[49m\u001b[38;5;241;43m*\u001b[39;49m\u001b[43maws_quantum_task_args\u001b[49m\u001b[43m,\u001b[49m\n\u001b[1;32m    226\u001b[0m \u001b[43m    \u001b[49m\u001b[38;5;241;43m*\u001b[39;49m\u001b[38;5;241;43m*\u001b[39;49m\u001b[43maws_quantum_task_kwargs\u001b[49m\u001b[43m,\u001b[49m\n\u001b[1;32m    227\u001b[0m \u001b[43m\u001b[49m\u001b[43m)\u001b[49m\n",
      "File \u001b[0;32m~/anaconda3/envs/Braket/lib/python3.10/site-packages/braket/aws/aws_quantum_task.py:214\u001b[0m, in \u001b[0;36mAwsQuantumTask.create\u001b[0;34m(aws_session, device_arn, task_specification, s3_destination_folder, shots, device_parameters, disable_qubit_rewiring, tags, inputs, gate_definitions, quiet, reservation_arn, *args, **kwargs)\u001b[0m\n\u001b[1;32m    209\u001b[0m     \u001b[38;5;28;01mif\u001b[39;00m unbounded_parameters \u001b[38;5;241m:=\u001b[39m param_names \u001b[38;5;241m-\u001b[39m \u001b[38;5;28mset\u001b[39m(inputs\u001b[38;5;241m.\u001b[39mkeys()):\n\u001b[1;32m    210\u001b[0m         \u001b[38;5;28;01mraise\u001b[39;00m \u001b[38;5;167;01mValueError\u001b[39;00m(\n\u001b[1;32m    211\u001b[0m             \u001b[38;5;124mf\u001b[39m\u001b[38;5;124m\"\u001b[39m\u001b[38;5;124mCannot execute circuit with unbound parameters: \u001b[39m\u001b[38;5;132;01m{\u001b[39;00munbounded_parameters\u001b[38;5;132;01m}\u001b[39;00m\u001b[38;5;124m\"\u001b[39m\n\u001b[1;32m    212\u001b[0m         )\n\u001b[0;32m--> 214\u001b[0m \u001b[38;5;28;01mreturn\u001b[39;00m \u001b[43m_create_internal\u001b[49m\u001b[43m(\u001b[49m\n\u001b[1;32m    215\u001b[0m \u001b[43m    \u001b[49m\u001b[43mtask_specification\u001b[49m\u001b[43m,\u001b[49m\n\u001b[1;32m    216\u001b[0m \u001b[43m    \u001b[49m\u001b[43maws_session\u001b[49m\u001b[43m,\u001b[49m\n\u001b[1;32m    217\u001b[0m \u001b[43m    \u001b[49m\u001b[43mcreate_task_kwargs\u001b[49m\u001b[43m,\u001b[49m\n\u001b[1;32m    218\u001b[0m \u001b[43m    \u001b[49m\u001b[43mdevice_arn\u001b[49m\u001b[43m,\u001b[49m\n\u001b[1;32m    219\u001b[0m \u001b[43m    \u001b[49m\u001b[43mdevice_parameters\u001b[49m\u001b[43m \u001b[49m\u001b[38;5;129;43;01mor\u001b[39;49;00m\u001b[43m \u001b[49m\u001b[43m{\u001b[49m\u001b[43m}\u001b[49m\u001b[43m,\u001b[49m\n\u001b[1;32m    220\u001b[0m \u001b[43m    \u001b[49m\u001b[43mdisable_qubit_rewiring\u001b[49m\u001b[43m,\u001b[49m\n\u001b[1;32m    221\u001b[0m \u001b[43m    \u001b[49m\u001b[43minputs\u001b[49m\u001b[43m,\u001b[49m\n\u001b[1;32m    222\u001b[0m \u001b[43m    \u001b[49m\u001b[43mgate_definitions\u001b[49m\u001b[38;5;241;43m=\u001b[39;49m\u001b[43mgate_definitions\u001b[49m\u001b[43m,\u001b[49m\n\u001b[1;32m    223\u001b[0m \u001b[43m    \u001b[49m\u001b[43mquiet\u001b[49m\u001b[38;5;241;43m=\u001b[39;49m\u001b[43mquiet\u001b[49m\u001b[43m,\u001b[49m\n\u001b[1;32m    224\u001b[0m \u001b[43m    \u001b[49m\u001b[38;5;241;43m*\u001b[39;49m\u001b[43margs\u001b[49m\u001b[43m,\u001b[49m\n\u001b[1;32m    225\u001b[0m \u001b[43m    \u001b[49m\u001b[38;5;241;43m*\u001b[39;49m\u001b[38;5;241;43m*\u001b[39;49m\u001b[43mkwargs\u001b[49m\u001b[43m,\u001b[49m\n\u001b[1;32m    226\u001b[0m \u001b[43m\u001b[49m\u001b[43m)\u001b[49m\n",
      "File \u001b[0;32m~/anaconda3/envs/Braket/lib/python3.10/functools.py:889\u001b[0m, in \u001b[0;36msingledispatch.<locals>.wrapper\u001b[0;34m(*args, **kw)\u001b[0m\n\u001b[1;32m    885\u001b[0m \u001b[38;5;28;01mif\u001b[39;00m \u001b[38;5;129;01mnot\u001b[39;00m args:\n\u001b[1;32m    886\u001b[0m     \u001b[38;5;28;01mraise\u001b[39;00m \u001b[38;5;167;01mTypeError\u001b[39;00m(\u001b[38;5;124mf\u001b[39m\u001b[38;5;124m'\u001b[39m\u001b[38;5;132;01m{\u001b[39;00mfuncname\u001b[38;5;132;01m}\u001b[39;00m\u001b[38;5;124m requires at least \u001b[39m\u001b[38;5;124m'\u001b[39m\n\u001b[1;32m    887\u001b[0m                     \u001b[38;5;124m'\u001b[39m\u001b[38;5;124m1 positional argument\u001b[39m\u001b[38;5;124m'\u001b[39m)\n\u001b[0;32m--> 889\u001b[0m \u001b[38;5;28;01mreturn\u001b[39;00m \u001b[43mdispatch\u001b[49m\u001b[43m(\u001b[49m\u001b[43margs\u001b[49m\u001b[43m[\u001b[49m\u001b[38;5;241;43m0\u001b[39;49m\u001b[43m]\u001b[49m\u001b[38;5;241;43m.\u001b[39;49m\u001b[38;5;18;43m__class__\u001b[39;49m\u001b[43m)\u001b[49m\u001b[43m(\u001b[49m\u001b[38;5;241;43m*\u001b[39;49m\u001b[43margs\u001b[49m\u001b[43m,\u001b[49m\u001b[43m \u001b[49m\u001b[38;5;241;43m*\u001b[39;49m\u001b[38;5;241;43m*\u001b[39;49m\u001b[43mkw\u001b[49m\u001b[43m)\u001b[49m\n",
      "File \u001b[0;32m~/anaconda3/envs/Braket/lib/python3.10/site-packages/braket/aws/aws_quantum_task.py:730\u001b[0m, in \u001b[0;36m_\u001b[0;34m(circuit, aws_session, create_task_kwargs, device_arn, device_parameters, disable_qubit_rewiring, inputs, gate_definitions, *args, **kwargs)\u001b[0m\n\u001b[1;32m    721\u001b[0m     openqasm_program \u001b[38;5;241m=\u001b[39m OpenQASMProgram(\n\u001b[1;32m    722\u001b[0m         source\u001b[38;5;241m=\u001b[39mopenqasm_program\u001b[38;5;241m.\u001b[39msource,\n\u001b[1;32m    723\u001b[0m         inputs\u001b[38;5;241m=\u001b[39minputs_copy,\n\u001b[1;32m    724\u001b[0m     )\n\u001b[1;32m    726\u001b[0m create_task_kwargs \u001b[38;5;241m|\u001b[39m\u001b[38;5;241m=\u001b[39m {\n\u001b[1;32m    727\u001b[0m     \u001b[38;5;124m\"\u001b[39m\u001b[38;5;124maction\u001b[39m\u001b[38;5;124m\"\u001b[39m: openqasm_program\u001b[38;5;241m.\u001b[39mjson(),\n\u001b[1;32m    728\u001b[0m     \u001b[38;5;124m\"\u001b[39m\u001b[38;5;124mdeviceParameters\u001b[39m\u001b[38;5;124m\"\u001b[39m: final_device_parameters\u001b[38;5;241m.\u001b[39mjson(exclude_none\u001b[38;5;241m=\u001b[39m\u001b[38;5;28;01mTrue\u001b[39;00m),\n\u001b[1;32m    729\u001b[0m }\n\u001b[0;32m--> 730\u001b[0m task_arn \u001b[38;5;241m=\u001b[39m \u001b[43maws_session\u001b[49m\u001b[38;5;241;43m.\u001b[39;49m\u001b[43mcreate_quantum_task\u001b[49m\u001b[43m(\u001b[49m\u001b[38;5;241;43m*\u001b[39;49m\u001b[38;5;241;43m*\u001b[39;49m\u001b[43mcreate_task_kwargs\u001b[49m\u001b[43m)\u001b[49m\n\u001b[1;32m    731\u001b[0m \u001b[38;5;28;01mreturn\u001b[39;00m AwsQuantumTask(task_arn, aws_session, \u001b[38;5;241m*\u001b[39margs, \u001b[38;5;241m*\u001b[39m\u001b[38;5;241m*\u001b[39mkwargs)\n",
      "File \u001b[0;32m~/anaconda3/envs/Braket/lib/python3.10/site-packages/braket/aws/aws_session.py:269\u001b[0m, in \u001b[0;36mAwsSession.create_quantum_task\u001b[0;34m(self, **boto3_kwargs)\u001b[0m\n\u001b[1;32m    267\u001b[0m \u001b[38;5;28;01mif\u001b[39;00m job_token:\n\u001b[1;32m    268\u001b[0m     boto3_kwargs[\u001b[38;5;124m\"\u001b[39m\u001b[38;5;124mjobToken\u001b[39m\u001b[38;5;124m\"\u001b[39m] \u001b[38;5;241m=\u001b[39m job_token\n\u001b[0;32m--> 269\u001b[0m response \u001b[38;5;241m=\u001b[39m \u001b[38;5;28;43mself\u001b[39;49m\u001b[38;5;241;43m.\u001b[39;49m\u001b[43mbraket_client\u001b[49m\u001b[38;5;241;43m.\u001b[39;49m\u001b[43mcreate_quantum_task\u001b[49m\u001b[43m(\u001b[49m\u001b[38;5;241;43m*\u001b[39;49m\u001b[38;5;241;43m*\u001b[39;49m\u001b[43mboto3_kwargs\u001b[49m\u001b[43m)\u001b[49m\n\u001b[1;32m    270\u001b[0m broadcast_event(\n\u001b[1;32m    271\u001b[0m     _TaskCreationEvent(\n\u001b[1;32m    272\u001b[0m         arn\u001b[38;5;241m=\u001b[39mresponse[\u001b[38;5;124m\"\u001b[39m\u001b[38;5;124mquantumTaskArn\u001b[39m\u001b[38;5;124m\"\u001b[39m],\n\u001b[0;32m   (...)\u001b[0m\n\u001b[1;32m    276\u001b[0m     )\n\u001b[1;32m    277\u001b[0m )\n\u001b[1;32m    278\u001b[0m \u001b[38;5;28;01mreturn\u001b[39;00m response[\u001b[38;5;124m\"\u001b[39m\u001b[38;5;124mquantumTaskArn\u001b[39m\u001b[38;5;124m\"\u001b[39m]\n",
      "File \u001b[0;32m~/anaconda3/envs/Braket/lib/python3.10/site-packages/botocore/client.py:569\u001b[0m, in \u001b[0;36mClientCreator._create_api_method.<locals>._api_call\u001b[0;34m(self, *args, **kwargs)\u001b[0m\n\u001b[1;32m    565\u001b[0m     \u001b[38;5;28;01mraise\u001b[39;00m \u001b[38;5;167;01mTypeError\u001b[39;00m(\n\u001b[1;32m    566\u001b[0m         \u001b[38;5;124mf\u001b[39m\u001b[38;5;124m\"\u001b[39m\u001b[38;5;132;01m{\u001b[39;00mpy_operation_name\u001b[38;5;132;01m}\u001b[39;00m\u001b[38;5;124m() only accepts keyword arguments.\u001b[39m\u001b[38;5;124m\"\u001b[39m\n\u001b[1;32m    567\u001b[0m     )\n\u001b[1;32m    568\u001b[0m \u001b[38;5;66;03m# The \"self\" in this scope is referring to the BaseClient.\u001b[39;00m\n\u001b[0;32m--> 569\u001b[0m \u001b[38;5;28;01mreturn\u001b[39;00m \u001b[38;5;28;43mself\u001b[39;49m\u001b[38;5;241;43m.\u001b[39;49m\u001b[43m_make_api_call\u001b[49m\u001b[43m(\u001b[49m\u001b[43moperation_name\u001b[49m\u001b[43m,\u001b[49m\u001b[43m \u001b[49m\u001b[43mkwargs\u001b[49m\u001b[43m)\u001b[49m\n",
      "File \u001b[0;32m~/anaconda3/envs/Braket/lib/python3.10/site-packages/botocore/client.py:1023\u001b[0m, in \u001b[0;36mBaseClient._make_api_call\u001b[0;34m(self, operation_name, api_params)\u001b[0m\n\u001b[1;32m   1019\u001b[0m     error_code \u001b[38;5;241m=\u001b[39m error_info\u001b[38;5;241m.\u001b[39mget(\u001b[38;5;124m\"\u001b[39m\u001b[38;5;124mQueryErrorCode\u001b[39m\u001b[38;5;124m\"\u001b[39m) \u001b[38;5;129;01mor\u001b[39;00m error_info\u001b[38;5;241m.\u001b[39mget(\n\u001b[1;32m   1020\u001b[0m         \u001b[38;5;124m\"\u001b[39m\u001b[38;5;124mCode\u001b[39m\u001b[38;5;124m\"\u001b[39m\n\u001b[1;32m   1021\u001b[0m     )\n\u001b[1;32m   1022\u001b[0m     error_class \u001b[38;5;241m=\u001b[39m \u001b[38;5;28mself\u001b[39m\u001b[38;5;241m.\u001b[39mexceptions\u001b[38;5;241m.\u001b[39mfrom_code(error_code)\n\u001b[0;32m-> 1023\u001b[0m     \u001b[38;5;28;01mraise\u001b[39;00m error_class(parsed_response, operation_name)\n\u001b[1;32m   1024\u001b[0m \u001b[38;5;28;01melse\u001b[39;00m:\n\u001b[1;32m   1025\u001b[0m     \u001b[38;5;28;01mreturn\u001b[39;00m parsed_response\n",
      "\u001b[0;31mDeviceOfflineException\u001b[0m: An error occurred (DeviceOfflineException) when calling the CreateQuantumTask operation: Device is not available. Status = OFFLINE"
     ]
    }
   ],
   "source": [
    "from qiskit_braket_provider import BraketProvider\n",
    "\n",
    "provider = BraketProvider()\n",
    "\n",
    "rigetti = AwsDevice(Devices.Rigetti.Ankaa2)\n",
    "print(rigetti.queue_depth())\n",
    "print(rigetti)\n",
    "rigetti.run(shors_circuit,shots=1000)"
   ]
  },
  {
   "cell_type": "code",
   "execution_count": null,
   "id": "820dad35-231d-4e1d-a421-5da4e923b2d2",
   "metadata": {
    "tags": []
   },
   "outputs": [],
   "source": [
    "iqm = AwsDevice(Devices.IQM.Garnet)\n",
    "print(iqm.queue_depth())\n",
    "output = iqm.run(shors_circuit, shots=1000)\n",
    "#output = run_shors_algorithm(shors_circuit, iqm)"
   ]
  },
  {
   "cell_type": "markdown",
   "id": "5f3db6db-0989-4673-bce4-e965225d216d",
   "metadata": {},
   "source": [
    "Okay, so what do I want to do:\n",
    "\n",
    "make a tiny printout of the circuit\n",
    "\n",
    "explain how each of the components work\n",
    "\n",
    "make a run through of the underlying math\n",
    "\n",
    "provide some choice selection for which AWS device to use\n",
    "\n",
    "email notification\n"
   ]
  },
  {
   "cell_type": "markdown",
   "id": "c191ba53-4bed-48b0-af69-33c363a295af",
   "metadata": {},
   "source": [
    "output"
   ]
  },
  {
   "cell_type": "code",
   "execution_count": null,
   "id": "01facf74-83dd-4ad4-894f-751a9cded2e1",
   "metadata": {
    "tags": []
   },
   "outputs": [],
   "source": [
    "output"
   ]
  },
  {
   "cell_type": "code",
   "execution_count": null,
   "id": "c1ccb37c-06a8-47dc-8b00-8a2ee840c308",
   "metadata": {
    "tags": []
   },
   "outputs": [],
   "source": [
    "output.queue_position()\n"
   ]
  },
  {
   "cell_type": "code",
   "execution_count": 5,
   "id": "c2c712eb-76a8-48e3-a6a5-5a05ab264c8c",
   "metadata": {
    "tags": []
   },
   "outputs": [
    {
     "name": "stdout",
     "output_type": "stream",
     "text": [
      "QueueDepthInfo(quantum_tasks={<QueueType.NORMAL: 'Normal'>: '10', <QueueType.PRIORITY: 'Priority'>: '0'}, jobs='0')\n"
     ]
    }
   ],
   "source": [
    "print(iqm.queue_depth())"
   ]
  },
  {
   "cell_type": "code",
   "execution_count": 4,
   "id": "ebfed554-fadf-4a72-9b3e-5c9f380ae309",
   "metadata": {
    "tags": []
   },
   "outputs": [],
   "source": [
    "iqm = AwsDevice(Devices.IQM.Garnet)"
   ]
  },
  {
   "cell_type": "code",
   "execution_count": null,
   "id": "fb8a7981-574e-4cb7-b0e8-2fa21d636d46",
   "metadata": {},
   "outputs": [],
   "source": []
  }
 ],
 "metadata": {
  "kernelspec": {
   "display_name": "conda_braket",
   "language": "python",
   "name": "conda_braket"
  },
  "language_info": {
   "codemirror_mode": {
    "name": "ipython",
    "version": 3
   },
   "file_extension": ".py",
   "mimetype": "text/x-python",
   "name": "python",
   "nbconvert_exporter": "python",
   "pygments_lexer": "ipython3",
   "version": "3.10.15"
  }
 },
 "nbformat": 4,
 "nbformat_minor": 5
}
