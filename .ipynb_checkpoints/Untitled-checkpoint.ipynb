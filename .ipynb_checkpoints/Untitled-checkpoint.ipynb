{
 "cells": [
  {
   "cell_type": "markdown",
   "id": "88052ce9",
   "metadata": {},
   "source": [
    "Quantum demo, by David Finder.\n",
    "\n",
    "Howdy, welcome to the quantum demo. We're going to work with _baby_ RSA and _baby_ Shor's algorithm.\n",
    "\n",
    "\n",
    "First, we're going to cover RSA.\n",
    "\n",
    "RSA "
   ]
  },
  {
   "cell_type": "code",
   "execution_count": null,
   "id": "e778103a",
   "metadata": {},
   "outputs": [],
   "source": [
    "plaintext = input(\"Give me a short plaintext!\")"
   ]
  },
  {
   "cell_type": "code",
   "execution_count": null,
   "id": "987f7864",
   "metadata": {},
   "outputs": [],
   "source": []
  }
 ],
 "metadata": {
  "kernelspec": {
   "display_name": "Python 3",
   "language": "python",
   "name": "python3"
  },
  "language_info": {
   "codemirror_mode": {
    "name": "ipython",
    "version": 3
   },
   "file_extension": ".py",
   "mimetype": "text/x-python",
   "name": "python",
   "nbconvert_exporter": "python",
   "pygments_lexer": "ipython3",
   "version": "3.10.12"
  }
 },
 "nbformat": 4,
 "nbformat_minor": 5
}
